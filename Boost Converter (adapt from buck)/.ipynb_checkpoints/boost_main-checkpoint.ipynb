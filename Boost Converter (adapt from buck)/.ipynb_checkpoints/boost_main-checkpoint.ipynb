{
 "cells": [
  {
   "cell_type": "markdown",
   "metadata": {},
   "source": [
    "# Boost Converter design sheet\n",
    "## About:\n",
    "This is a project sheet for an ideal boost converter operating in continuous conduction mode.\n",
    "Written by Eduardo Eller Behr for his own use\n",
    "\n",
    "# <font color='red'>REDO from scratch and avoid mistaking with BUCK!</font>"
   ]
  },
  {
   "cell_type": "markdown",
   "metadata": {},
   "source": [
    "# Setup"
   ]
  },
  {
   "cell_type": "code",
   "execution_count": 1,
   "metadata": {},
   "outputs": [],
   "source": [
    "# %run classes.ipynb\n",
    "# from classes import *  # my customs classes\n",
    "from sympy.physics.units import *\n",
    "# from input_parameters import *\n",
    "# import pandas as pd\n",
    "from matplotlib import pyplot as plt\n",
    "from numpy import sqrt, pi, sin, cos\n",
    "import numpy as np\n",
    "import sympy as sp"
   ]
  },
  {
   "cell_type": "markdown",
   "metadata": {},
   "source": [
    "# Input \n",
    "## Project Parameters (necessary)"
   ]
  },
  {
   "cell_type": "code",
   "execution_count": 2,
   "metadata": {},
   "outputs": [],
   "source": [
    "Vin = 12*volts    # input voltage\n",
    "Vout = 48*volts    # output voltage\n",
    "Pout = 100*watts  # output power\n",
    "fs = 40e3*hertz    # switching frequency\n",
    "dIL_max = 1*ampere   # maximum Inductor current ripple"
   ]
  },
  {
   "cell_type": "markdown",
   "metadata": {},
   "source": [
    "## Secondary parameters (not necessary beforehand)"
   ]
  },
  {
   "cell_type": "code",
   "execution_count": 3,
   "metadata": {},
   "outputs": [],
   "source": [
    "R_inductor = 3/100 * ohms  # Resistance of the inductor's coil. Only needed for analysis\n",
    "C_out = 1e-6 * farad  # Output capacitance. Needed for the analysis of filter"
   ]
  },
  {
   "cell_type": "markdown",
   "metadata": {},
   "source": [
    "# Preliminar calculations"
   ]
  },
  {
   "cell_type": "code",
   "execution_count": 11,
   "metadata": {},
   "outputs": [
    {
     "data": {
      "text/latex": [
       "$\\displaystyle \\frac{3}{4}$"
      ],
      "text/plain": [
       "3/4"
      ]
     },
     "execution_count": 11,
     "metadata": {},
     "output_type": "execute_result"
    }
   ],
   "source": [
    "a = Vout/Vin  # static gain\n",
    "D = 1-1/a  # duty cycle for buck converter on continuous conduction mode\n",
    "Rload = Vout**2/Pout  # equivalent output resistor for project\n",
    "convert_to(Rload,ohm).evalf(3)\n",
    "I_out = Vout/Rload  # aerage output current\n",
    "# IL_avg = I_out  # in the case of the Buck, the average inductor current is the same as the output\n",
    "# IL_max = IL_avg + dIL_max/2\n",
    "# IL_min = IL_avg - dIL_max/2\n",
    "D"
   ]
  },
  {
   "cell_type": "markdown",
   "metadata": {},
   "source": [
    "## Inductor\n",
    "$ \n",
    "L \\cdot {{\\Delta I_L}\\over{\\Delta t}} = V_{in} - V_{out} \\rightarrow \n",
    "L = {{(V_{in}-V_{out}) D}\\over{f_s \\Delta I_L}}\n",
    ", where \\space \\Delta t = {{D} \\over {f_s}}\n",
    "$"
   ]
  },
  {
   "cell_type": "code",
   "execution_count": 12,
   "metadata": {},
   "outputs": [
    {
     "data": {
      "text/latex": [
       "$\\displaystyle - 0.000675 \\text{H}$"
      ],
      "text/plain": [
       "-0.000675*henry"
      ]
     },
     "execution_count": 12,
     "metadata": {},
     "output_type": "execute_result"
    }
   ],
   "source": [
    "L = (Vin-Vout)*D/(fs*dIL_max)\n",
    "convert_to(L, henry)"
   ]
  },
  {
   "cell_type": "markdown",
   "metadata": {},
   "source": [
    "# Analysis\n",
    "## Static gain $\\big({V_{out}\\over V_{in}}\\big)$ with inductor losses\n",
    "\n",
    "${{V_{out}}\\over{V_{in}}} = \\Big((1-D) \\cdot  \\big(1 + {{R_{inductor}}\\over{R_{load}\\cdot(1-D)^2}}\\big)\\Big)^{-1}$\n",
    "\n",
    "## <font color='red'>Keep this, since it corresponds to boost</font>"
   ]
  },
  {
   "cell_type": "code",
   "execution_count": 6,
   "metadata": {},
   "outputs": [
    {
     "data": {
      "image/png": "[encoded data removed]",
      "text/plain": [
       "<Figure size 432x288 with 1 Axes>"
      ]
     },
     "metadata": {
      "needs_background": "light"
     },
     "output_type": "display_data"
    }
   ],
   "source": [
    "D_plt = np.linspace(0, 1, 101)\n",
    "R_inductor_plt = R_inductor.args[0]  # gets numerical value\n",
    "Rload_plt = Rload.args[0]\n",
    "a_plt = 1/((1-D_plt)*(1+R_inductor_plt/(Rload_plt*(1-D_plt)**2)))\n",
    "a_plt[a_plt==sp.nan] = 0  # removes nan values\n",
    "plt.plot(D_plt*100, a_plt); plt.xlabel('Duty Cycle D (%)'); plt.ylabel('Static Gain Vout/Vin'); plt.grid(True)"
   ]
  },
  {
   "cell_type": "markdown",
   "metadata": {},
   "source": [
    "## Efficiency η with inductor losses\n",
    "\n",
    "$η=\\big(1+{{R_{inductor}}\\over{R_{load \\cdot (1-D)^2}}}\\big)^{-1}$\n",
    "\n",
    "## <font color='red'>Keep this, it's also is for the Boost</font>"
   ]
  },
  {
   "cell_type": "code",
   "execution_count": 7,
   "metadata": {},
   "outputs": [
    {
     "data": {
      "image/png": "[encoded data removed]",
      "text/plain": [
       "<Figure size 432x288 with 1 Axes>"
      ]
     },
     "metadata": {
      "needs_background": "light"
     },
     "output_type": "display_data"
    }
   ],
   "source": [
    "η = 1/(1+R_inductor_plt/(Rload_plt*(1-D_plt)**2))\n",
    "plt.plot(D_plt*100,η*100); plt.xlabel('Duty Cycle D (%)'); plt.ylabel('Efficiency η (%)'); plt.grid(True);"
   ]
  },
  {
   "cell_type": "markdown",
   "metadata": {},
   "source": [
    "## Output filter "
   ]
  },
  {
   "cell_type": "code",
   "execution_count": 8,
   "metadata": {},
   "outputs": [
    {
     "name": "stdout",
     "output_type": "stream",
     "text": [
      "Resonant frequency: nan\n"
     ]
    },
    {
     "name": "stderr",
     "output_type": "stream",
     "text": [
      "<ipython-input-8-8edd7684ff2d>:2: RuntimeWarning: invalid value encountered in sqrt\n",
      "  f_res = 1/(sqrt(L_plt*C_plt)*2*pi)*Hz;\n"
     ]
    },
    {
     "ename": "TypeError",
     "evalue": "type complex doesn't define __round__ method",
     "output_type": "error",
     "traceback": [
      "\u001b[0;31m---------------------------------------------------------------------------\u001b[0m",
      "\u001b[0;31mTypeError\u001b[0m                                 Traceback (most recent call last)",
      "\u001b[0;32m<ipython-input-8-8edd7684ff2d>\u001b[0m in \u001b[0;36m<module>\u001b[0;34m\u001b[0m\n\u001b[1;32m      3\u001b[0m \u001b[0mprint\u001b[0m\u001b[0;34m(\u001b[0m\u001b[0;34mf'Resonant frequency: {f_res.evalf(4)}'\u001b[0m\u001b[0;34m)\u001b[0m\u001b[0;34m\u001b[0m\u001b[0;34m\u001b[0m\u001b[0m\n\u001b[1;32m      4\u001b[0m \u001b[0mζ\u001b[0m\u001b[0;34m=\u001b[0m\u001b[0;34m(\u001b[0m\u001b[0mL_plt\u001b[0m\u001b[0;34m/\u001b[0m\u001b[0mC_plt\u001b[0m\u001b[0;34m)\u001b[0m\u001b[0;34m**\u001b[0m\u001b[0;36m0.5\u001b[0m\u001b[0;34m/\u001b[0m\u001b[0;34m(\u001b[0m\u001b[0;36m2\u001b[0m\u001b[0;34m*\u001b[0m\u001b[0mRload_plt\u001b[0m\u001b[0;34m)\u001b[0m\u001b[0;34m\u001b[0m\u001b[0;34m\u001b[0m\u001b[0m\n\u001b[0;32m----> 5\u001b[0;31m \u001b[0mprint\u001b[0m\u001b[0;34m(\u001b[0m\u001b[0;34mf'Damping factor: ζ={round(ζ,2)}'\u001b[0m\u001b[0;34m)\u001b[0m\u001b[0;34m\u001b[0m\u001b[0;34m\u001b[0m\u001b[0m\n\u001b[0m",
      "\u001b[0;31mTypeError\u001b[0m: type complex doesn't define __round__ method"
     ]
    }
   ],
   "source": [
    "C_plt = float(C_out.args[0]); L_plt = float(L.args[0]); Rload_plt = float(Rload.args[0])\n",
    "f_res = 1/(sqrt(L_plt*C_plt)*2*pi)*Hz;\n",
    "print(f'Resonant frequency: {f_res.evalf(4)}')\n",
    "ζ=(L_plt/C_plt)**0.5/(2*Rload_plt)\n",
    "print(f'Damping factor: ζ={round(ζ,2)}')"
   ]
  },
  {
   "cell_type": "markdown",
   "metadata": {},
   "source": [
    "# Simulation\n",
    "(create separate file with Simulation class and import it)\n",
    "\n",
    "simu = BuckSimulation(Vin, Vout, Pout, fs,)"
   ]
  },
  {
   "cell_type": "code",
   "execution_count": null,
   "metadata": {},
   "outputs": [],
   "source": []
  },
  {
   "cell_type": "markdown",
   "metadata": {},
   "source": [
    "# References\n",
    "[1] https://en.wikipedia.org/wiki/Buck_converter\n",
    "\n",
    "[2] Erickson, Robert W. Fundamentals of Power Electronics, $2^{nd}$ edition. 2001"
   ]
  },
  {
   "cell_type": "code",
   "execution_count": null,
   "metadata": {},
   "outputs": [],
   "source": []
  }
 ],
 "metadata": {
  "kernelspec": {
   "display_name": "Python 3",
   "language": "python",
   "name": "python3"
  },
  "language_info": {
   "codemirror_mode": {
    "name": "ipython",
    "version": 3
   },
   "file_extension": ".py",
   "mimetype": "text/x-python",
   "name": "python",
   "nbconvert_exporter": "python",
   "pygments_lexer": "ipython3",
   "version": "3.8.2"
  }
 },
 "nbformat": 4,
 "nbformat_minor": 4
}
