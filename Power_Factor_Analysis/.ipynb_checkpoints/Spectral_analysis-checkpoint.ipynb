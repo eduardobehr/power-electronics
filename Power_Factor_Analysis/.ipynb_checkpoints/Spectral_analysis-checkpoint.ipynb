{
 "cells": [
  {
   "cell_type": "code",
   "execution_count": 1,
   "metadata": {},
   "outputs": [],
   "source": [
    "from matplotlib import pyplot as plt\n",
    "from numpy import linspace, sin, cos, pi, sqrt, ceil, floor, abs, angle, mean, array, ndarray\n",
    "from sympy.physics.units import *\n",
    "import pandas as pd\n",
    "from scipy import fft\n",
    "import numpy as np"
   ]
  },
  {
   "cell_type": "code",
   "execution_count": 2,
   "metadata": {},
   "outputs": [],
   "source": [
    "def get_fft(signal, time, plot=True,):\n",
    "    dt = time[1] - time[0]\n",
    "    T = t[-1]-t[0]; samples = len(t)\n",
    "    fmax = int((samples-1)/2)\n",
    "    freq = np.int64(linspace(0, samples, samples+1)[0:fmax])\n",
    "    df=freq[1]-freq[0]\n",
    "#     print(f'{samples=}; {fmax=}; {df=}')\n",
    "    Xf = fft.fft(signal)*dt*sqrt(2)\n",
    "    Xf = Xf[0:fmax]\n",
    "    if plot:\n",
    "        plt.semilogx(freq, abs(Xf)); plt.grid(True,'both'); \n",
    "        plt.xlabel('Frequency (Hz)'); plt.ylabel('RMS Amplitude')\n",
    "    return abs(Xf), angle(Xf), freq\n",
    "\n",
    "def get_THDf(dataframe, f0) -> pd.DataFrame:\n",
    "    \"\"\" Takes a Dataframe in which the first column is the frequency \n",
    "    and returns another DataFrame in with the THDf values. \n",
    "    Param f0 is the fundamental frequency\"\"\"\n",
    "    \n",
    "    d = dataframe.iloc[2*f0::f0]\n",
    "    out = pd.DataFrame()\n",
    "#     for row in df.iterrows():\n",
    "#         for col in df.columns[1:]:\n",
    "#             print(col, )\n",
    "#     print(d.head())\n",
    "\n",
    "    out = d.apply(lambda a: a**2)\n",
    "#     for col in d.columns[1:]:\n",
    "#         series = d[col].apply(lambda a:a**2)\n",
    "#         print(f'{series=}')\n",
    "#         out[col] = [sqrt(series.sum())]\n",
    "    out = pd.DataFrame(out.sum()).drop('f').apply(lambda a: sqrt(a))\n",
    "#     for row in out.iterrows():\n",
    "#         out.loc[row[0]] = row[1]\n",
    "    return out\n",
    "\n",
    "\n",
    "def rms(X):\n",
    "    X = array(X)\n",
    "    return sqrt(mean(X**2))"
   ]
  },
  {
   "cell_type": "code",
   "execution_count": 3,
   "metadata": {},
   "outputs": [
    {
     "data": {
      "text/html": [
       "<div>\n",
       "<style scoped>\n",
       "    .dataframe tbody tr th:only-of-type {\n",
       "        vertical-align: middle;\n",
       "    }\n",
       "\n",
       "    .dataframe tbody tr th {\n",
       "        vertical-align: top;\n",
       "    }\n",
       "\n",
       "    .dataframe thead th {\n",
       "        text-align: right;\n",
       "    }\n",
       "</style>\n",
       "<table border=\"1\" class=\"dataframe\">\n",
       "  <thead>\n",
       "    <tr style=\"text-align: right;\">\n",
       "      <th></th>\n",
       "      <th>t</th>\n",
       "      <th>ug</th>\n",
       "      <th>ig</th>\n",
       "      <th>uc</th>\n",
       "    </tr>\n",
       "  </thead>\n",
       "  <tbody>\n",
       "    <tr>\n",
       "      <th>99995</th>\n",
       "      <td>0.99996</td>\n",
       "      <td>-4.691553e+00</td>\n",
       "      <td>-4.440892e-16</td>\n",
       "      <td>302.039891</td>\n",
       "    </tr>\n",
       "    <tr>\n",
       "      <th>99996</th>\n",
       "      <td>0.99997</td>\n",
       "      <td>-3.518723e+00</td>\n",
       "      <td>-4.440892e-16</td>\n",
       "      <td>302.021202</td>\n",
       "    </tr>\n",
       "    <tr>\n",
       "      <th>99997</th>\n",
       "      <td>0.99998</td>\n",
       "      <td>-2.345843e+00</td>\n",
       "      <td>-4.440892e-16</td>\n",
       "      <td>302.002514</td>\n",
       "    </tr>\n",
       "    <tr>\n",
       "      <th>99998</th>\n",
       "      <td>0.99999</td>\n",
       "      <td>-1.172930e+00</td>\n",
       "      <td>-4.440892e-16</td>\n",
       "      <td>301.983825</td>\n",
       "    </tr>\n",
       "    <tr>\n",
       "      <th>99999</th>\n",
       "      <td>1.00000</td>\n",
       "      <td>-1.341501e-11</td>\n",
       "      <td>-4.440892e-16</td>\n",
       "      <td>301.965137</td>\n",
       "    </tr>\n",
       "  </tbody>\n",
       "</table>\n",
       "</div>"
      ],
      "text/plain": [
       "             t            ug            ig          uc\n",
       "99995  0.99996 -4.691553e+00 -4.440892e-16  302.039891\n",
       "99996  0.99997 -3.518723e+00 -4.440892e-16  302.021202\n",
       "99997  0.99998 -2.345843e+00 -4.440892e-16  302.002514\n",
       "99998  0.99999 -1.172930e+00 -4.440892e-16  301.983825\n",
       "99999  1.00000 -1.341501e-11 -4.440892e-16  301.965137"
      ]
     },
     "execution_count": 3,
     "metadata": {},
     "output_type": "execute_result"
    }
   ],
   "source": [
    "# load data into DataFrame\n",
    "data = pd.read_csv('full bridge rectifier waveforms.csv', index_col=0)\n",
    "\n",
    "# load data into variables\n",
    "for var in data:\n",
    "    exec(f'{var} = data[\"{var}\"].to_numpy()')\n",
    "    \n",
    "# print DataFrame's head\n",
    "data.tail()"
   ]
  },
  {
   "cell_type": "code",
   "execution_count": 4,
   "metadata": {
    "scrolled": true
   },
   "outputs": [
    {
     "data": {
      "text/plain": [
       "(50.0, 10000.0, 0.0, 200.0)"
      ]
     },
     "execution_count": 4,
     "metadata": {},
     "output_type": "execute_result"
    },
    {
     "data": {
      "image/png": "[encoded data removed]",
      "text/plain": [
       "<Figure size 432x288 with 1 Axes>"
      ]
     },
     "metadata": {
      "needs_background": "light"
     },
     "output_type": "display_data"
    }
   ],
   "source": [
    "ug_f, _, f = get_fft(ug, t);\n",
    "ig_f = get_fft(ig, t)[0];\n",
    "uc_f = get_fft(uc, t)[0];\n",
    "\n",
    "f_data = pd.DataFrame(\n",
    "    {\n",
    "        'f': f,\n",
    "        'ug_f': ug_f,\n",
    "        'ig_f': ig_f,\n",
    "        'uc_f': uc_f\n",
    "    },\n",
    "    index=f\n",
    ")\n",
    "plt.axis([50,1e4,0,200])"
   ]
  },
  {
   "cell_type": "code",
   "execution_count": 5,
   "metadata": {},
   "outputs": [
    {
     "data": {
      "text/html": [
       "<div>\n",
       "<style scoped>\n",
       "    .dataframe tbody tr th:only-of-type {\n",
       "        vertical-align: middle;\n",
       "    }\n",
       "\n",
       "    .dataframe tbody tr th {\n",
       "        vertical-align: top;\n",
       "    }\n",
       "\n",
       "    .dataframe thead th {\n",
       "        text-align: right;\n",
       "    }\n",
       "</style>\n",
       "<table border=\"1\" class=\"dataframe\">\n",
       "  <thead>\n",
       "    <tr style=\"text-align: right;\">\n",
       "      <th></th>\n",
       "      <th>f</th>\n",
       "      <th>ug_f</th>\n",
       "      <th>ig_f</th>\n",
       "      <th>uc_f</th>\n",
       "    </tr>\n",
       "  </thead>\n",
       "  <tbody>\n",
       "    <tr>\n",
       "      <th>60</th>\n",
       "      <td>60</td>\n",
       "      <td>220.000970</td>\n",
       "      <td>5.025296</td>\n",
       "      <td>0.587751</td>\n",
       "    </tr>\n",
       "    <tr>\n",
       "      <th>120</th>\n",
       "      <td>120</td>\n",
       "      <td>0.002933</td>\n",
       "      <td>0.578145</td>\n",
       "      <td>3.943731</td>\n",
       "    </tr>\n",
       "    <tr>\n",
       "      <th>180</th>\n",
       "      <td>180</td>\n",
       "      <td>0.001650</td>\n",
       "      <td>4.089476</td>\n",
       "      <td>0.428292</td>\n",
       "    </tr>\n",
       "    <tr>\n",
       "      <th>240</th>\n",
       "      <td>240</td>\n",
       "      <td>0.001173</td>\n",
       "      <td>0.240973</td>\n",
       "      <td>1.400675</td>\n",
       "    </tr>\n",
       "    <tr>\n",
       "      <th>300</th>\n",
       "      <td>300</td>\n",
       "      <td>0.000917</td>\n",
       "      <td>4.276682</td>\n",
       "      <td>0.238664</td>\n",
       "    </tr>\n",
       "    <tr>\n",
       "      <th>...</th>\n",
       "      <td>...</td>\n",
       "      <td>...</td>\n",
       "      <td>...</td>\n",
       "      <td>...</td>\n",
       "    </tr>\n",
       "    <tr>\n",
       "      <th>49740</th>\n",
       "      <td>49740</td>\n",
       "      <td>0.000008</td>\n",
       "      <td>0.003993</td>\n",
       "      <td>0.002134</td>\n",
       "    </tr>\n",
       "    <tr>\n",
       "      <th>49800</th>\n",
       "      <td>49800</td>\n",
       "      <td>0.000008</td>\n",
       "      <td>0.001011</td>\n",
       "      <td>0.002099</td>\n",
       "    </tr>\n",
       "    <tr>\n",
       "      <th>49860</th>\n",
       "      <td>49860</td>\n",
       "      <td>0.000008</td>\n",
       "      <td>0.001662</td>\n",
       "      <td>0.002132</td>\n",
       "    </tr>\n",
       "    <tr>\n",
       "      <th>49920</th>\n",
       "      <td>49920</td>\n",
       "      <td>0.000008</td>\n",
       "      <td>0.001250</td>\n",
       "      <td>0.002147</td>\n",
       "    </tr>\n",
       "    <tr>\n",
       "      <th>49980</th>\n",
       "      <td>49980</td>\n",
       "      <td>0.000008</td>\n",
       "      <td>0.003853</td>\n",
       "      <td>0.002133</td>\n",
       "    </tr>\n",
       "  </tbody>\n",
       "</table>\n",
       "<p>833 rows × 4 columns</p>\n",
       "</div>"
      ],
      "text/plain": [
       "           f        ug_f      ig_f      uc_f\n",
       "60        60  220.000970  5.025296  0.587751\n",
       "120      120    0.002933  0.578145  3.943731\n",
       "180      180    0.001650  4.089476  0.428292\n",
       "240      240    0.001173  0.240973  1.400675\n",
       "300      300    0.000917  4.276682  0.238664\n",
       "...      ...         ...       ...       ...\n",
       "49740  49740    0.000008  0.003993  0.002134\n",
       "49800  49800    0.000008  0.001011  0.002099\n",
       "49860  49860    0.000008  0.001662  0.002132\n",
       "49920  49920    0.000008  0.001250  0.002147\n",
       "49980  49980    0.000008  0.003853  0.002133\n",
       "\n",
       "[833 rows x 4 columns]"
      ]
     },
     "execution_count": 5,
     "metadata": {},
     "output_type": "execute_result"
    }
   ],
   "source": [
    "f_data.iloc[60::60]\n",
    "# f_data.iloc[235:245]"
   ]
  },
  {
   "cell_type": "code",
   "execution_count": 6,
   "metadata": {},
   "outputs": [
    {
     "data": {
      "text/plain": [
       "(0.0, 0.03333333333333333, -311.0, 311.0)"
      ]
     },
     "execution_count": 6,
     "metadata": {},
     "output_type": "execute_result"
    },
    {
     "data": {
      "image/png": "[encoded data removed]",
      "text/plain": [
       "<Figure size 432x288 with 1 Axes>"
      ]
     },
     "metadata": {
      "needs_background": "light"
     },
     "output_type": "display_data"
    }
   ],
   "source": [
    "plt.plot(t,100*ig, t, ug); plt.axis([0,2/60, -311, 311])"
   ]
  },
  {
   "cell_type": "code",
   "execution_count": 7,
   "metadata": {},
   "outputs": [
    {
     "data": {
      "text/latex": [
       "$\\displaystyle 219.99889999725 \\text{V}$"
      ],
      "text/plain": [
       "219.99889999725*volt"
      ]
     },
     "execution_count": 7,
     "metadata": {},
     "output_type": "execute_result"
    }
   ],
   "source": [
    "Ug = rms(ug[int(len(ug)/5):])*V\n",
    "Ug = rms(ug)*V; Ug"
   ]
  },
  {
   "cell_type": "code",
   "execution_count": 35,
   "metadata": {},
   "outputs": [
    {
     "data": {
      "text/latex": [
       "$\\displaystyle 14.8981351731801 \\text{A}$"
      ],
      "text/plain": [
       "14.8981351731801*ampere"
      ]
     },
     "execution_count": 35,
     "metadata": {},
     "output_type": "execute_result"
    }
   ],
   "source": [
    "Ig = rms(ig)*A; Ig"
   ]
  },
  {
   "cell_type": "code",
   "execution_count": 9,
   "metadata": {},
   "outputs": [
    {
     "data": {
      "text/latex": [
       "$\\displaystyle 0$"
      ],
      "text/plain": [
       "0"
      ]
     },
     "execution_count": 9,
     "metadata": {},
     "output_type": "execute_result"
    }
   ],
   "source": [
    "S = Ug*Ig*0; S"
   ]
  },
  {
   "cell_type": "code",
   "execution_count": 10,
   "metadata": {},
   "outputs": [
    {
     "data": {
      "text/latex": [
       "$\\displaystyle 1057.48410527541 \\text{W}$"
      ],
      "text/plain": [
       "1057.48410527541*watt"
      ]
     },
     "execution_count": 10,
     "metadata": {},
     "output_type": "execute_result"
    }
   ],
   "source": [
    "P = mean(data['ug']*data['ig'])*W; P"
   ]
  },
  {
   "cell_type": "code",
   "execution_count": 11,
   "metadata": {},
   "outputs": [
    {
     "data": {
      "text/latex": [
       "$\\displaystyle \\tilde{\\infty}$"
      ],
      "text/plain": [
       "zoo"
      ]
     },
     "execution_count": 11,
     "metadata": {},
     "output_type": "execute_result"
    }
   ],
   "source": [
    "PF = convert_to(P/S, 1); PF"
   ]
  },
  {
   "cell_type": "code",
   "execution_count": 12,
   "metadata": {},
   "outputs": [
    {
     "data": {
      "text/html": [
       "<div>\n",
       "<style scoped>\n",
       "    .dataframe tbody tr th:only-of-type {\n",
       "        vertical-align: middle;\n",
       "    }\n",
       "\n",
       "    .dataframe tbody tr th {\n",
       "        vertical-align: top;\n",
       "    }\n",
       "\n",
       "    .dataframe thead th {\n",
       "        text-align: right;\n",
       "    }\n",
       "</style>\n",
       "<table border=\"1\" class=\"dataframe\">\n",
       "  <thead>\n",
       "    <tr style=\"text-align: right;\">\n",
       "      <th></th>\n",
       "      <th>0</th>\n",
       "    </tr>\n",
       "  </thead>\n",
       "  <tbody>\n",
       "    <tr>\n",
       "      <th>ug_f</th>\n",
       "      <td>0.004139</td>\n",
       "    </tr>\n",
       "    <tr>\n",
       "      <th>ig_f</th>\n",
       "      <td>10.522318</td>\n",
       "    </tr>\n",
       "    <tr>\n",
       "      <th>uc_f</th>\n",
       "      <td>4.515704</td>\n",
       "    </tr>\n",
       "  </tbody>\n",
       "</table>\n",
       "</div>"
      ],
      "text/plain": [
       "              0\n",
       "ug_f   0.004139\n",
       "ig_f  10.522318\n",
       "uc_f   4.515704"
      ]
     },
     "execution_count": 12,
     "metadata": {},
     "output_type": "execute_result"
    }
   ],
   "source": [
    "aa = get_THDf(f_data, 60); aa"
   ]
  },
  {
   "cell_type": "code",
   "execution_count": 13,
   "metadata": {},
   "outputs": [
    {
     "data": {
      "text/plain": [
       "0.7792816263067355"
      ]
     },
     "execution_count": 13,
     "metadata": {},
     "output_type": "execute_result"
    }
   ],
   "source": [
    "0.188449/0.241824"
   ]
  },
  {
   "cell_type": "code",
   "execution_count": 15,
   "metadata": {},
   "outputs": [],
   "source": [
    "# sqrt(Ig.evalf()[0]/2)"
   ]
  },
  {
   "cell_type": "markdown",
   "metadata": {},
   "source": [
    "$$THD(X) := \\sqrt{\\frac{X_{rms}^2-X_{1, rms}^2}{X_{1, rms}^2}}$$"
   ]
  },
  {
   "cell_type": "code",
   "execution_count": 32,
   "metadata": {},
   "outputs": [],
   "source": [
    "def THD(time: ndarray, signals: list, fundamental_freq: int):\n",
    "    t = time\n",
    "    if type(signals) not in [list, tuple, ndarray]:\n",
    "        x = [signals]\n",
    "    else:\n",
    "        x = signals\n",
    "    for s in signals:\n",
    "        assert np.size(time) == np.size(s), f'time has size {np.size(time)}, while s has size {np.size(s)}'\n",
    "    \n",
    "    xrms = [rms(k[int(np.size(k)/4):]) for k in x]\n",
    "    \n",
    "    ffts = [get_fft(k, t, plot=False)[0] for k in x]\n",
    "#     f = get_fft(x[0], t, plot=False)[2]\n",
    "    fundamentals_rms = [fft[fundamental_freq] for fft in ffts]\n",
    "    \n",
    "    thds = [sqrt(abs((xrms[k]**2-fundamentals_rms[k]**2)/(fundamentals_rms[k]**2))) for k in range(len(x))]\n",
    "    return xrms, fundamentals_rms, thds"
   ]
  },
  {
   "cell_type": "code",
   "execution_count": 33,
   "metadata": {},
   "outputs": [
    {
     "data": {
      "text/plain": [
       "([219.99889999659862, 11.615893649482514, 302.9664423502901],\n",
       " [220.00096972088247, 5.025296089863147, 0.5877510228124834],\n",
       " [0.004337684159224626, 2.0839770279990097, 515.4663462519896])"
      ]
     },
     "execution_count": 33,
     "metadata": {},
     "output_type": "execute_result"
    }
   ],
   "source": [
    "THD(t, [ug, ig, uc], 60)"
   ]
  },
  {
   "cell_type": "code",
   "execution_count": 34,
   "metadata": {},
   "outputs": [
    {
     "data": {
      "text/plain": [
       "1.3867225713155165"
      ]
     },
     "execution_count": 34,
     "metadata": {},
     "output_type": "execute_result"
    }
   ],
   "source": [
    "sqrt(.24**2-.1411**2)/sqrt(.14**2)"
   ]
  },
  {
   "cell_type": "code",
   "execution_count": null,
   "metadata": {},
   "outputs": [],
   "source": []
  },
  {
   "cell_type": "code",
   "execution_count": null,
   "metadata": {},
   "outputs": [],
   "source": []
  }
 ],
 "metadata": {
  "kernelspec": {
   "display_name": "Python 3",
   "language": "python",
   "name": "python3"
  },
  "language_info": {
   "codemirror_mode": {
    "name": "ipython",
    "version": 3
   },
   "file_extension": ".py",
   "mimetype": "text/x-python",
   "name": "python",
   "nbconvert_exporter": "python",
   "pygments_lexer": "ipython3",
   "version": "3.8.5"
  }
 },
 "nbformat": 4,
 "nbformat_minor": 4
}
