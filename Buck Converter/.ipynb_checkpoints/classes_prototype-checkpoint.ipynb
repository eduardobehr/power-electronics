{
 "cells": [
  {
   "cell_type": "code",
   "execution_count": 98,
   "metadata": {},
   "outputs": [
    {
     "ename": "IndentationError",
     "evalue": "expected an indented block (<ipython-input-98-be711329e850>, line 8)",
     "output_type": "error",
     "traceback": [
      "\u001b[0;36m  File \u001b[0;32m\"<ipython-input-98-be711329e850>\"\u001b[0;36m, line \u001b[0;32m8\u001b[0m\n\u001b[0;31m    def __str__(self):\u001b[0m\n\u001b[0m    ^\u001b[0m\n\u001b[0;31mIndentationError\u001b[0m\u001b[0;31m:\u001b[0m expected an indented block\n"
     ]
    }
   ],
   "source": [
    "\n",
    "\n",
    "class var(float):\n",
    "    def __init__(self, value, unit:str = ''):\n",
    "        float.__init__(value)\n",
    "        self.value = value\n",
    "        self.unit = unit\n",
    "        \n",
    "    def aggregate_units(self):\n",
    "        pass\n",
    "        \n",
    "        \n",
    "    def __str__(self):\n",
    "        return float(self.value).__str__() + ' ' + self.unit\n",
    "    \n",
    "    def __add__(self, other: 'var'):\n",
    "        # TODO\n",
    "        if not isinstance(other, type(self)):\n",
    "            ans = self.value + other\n",
    "            print(f'Warning: adding type {type(self)} with type {type(other)}. Returning type {type(ans)}.')\n",
    "            return ans\n",
    "        elif self.unit != other.unit:\n",
    "            print('Warning: adding variables of different units!')\n",
    "            return self.value + other\n",
    "        elif self.unit == other.unit:\n",
    "            return var(self.value + other.value, unit = self.unit)\n",
    "            \n",
    "    \n",
    "    def __mul__(self, other):\n",
    "        if not isinstance(other, type(self)):\n",
    "            return var(self.value * other, unit = self.unit)\n",
    "        elif isinstance(other, type(self)):\n",
    "            return var(self.value * other.value, unit = self.unit+self.unit)\n",
    "        \n",
    "    \n",
    "\n",
    "v1 = var(220,unit='V')\n",
    "v2 = var(110, unit='V')\n",
    "i1 = var(5, unit='A')\n",
    "# v1+10\n",
    "print(v1 + v2)\n",
    "print(v1 + i1)\n",
    "print(v1 + 5.)\n",
    "print(v1*v2)\n",
    "print(v1*i1)"
   ]
  },
  {
   "cell_type": "code",
   "execution_count": null,
   "metadata": {},
   "outputs": [],
   "source": []
  },
  {
   "cell_type": "code",
   "execution_count": null,
   "metadata": {},
   "outputs": [],
   "source": []
  }
 ],
 "metadata": {
  "kernelspec": {
   "display_name": "Python 3",
   "language": "python",
   "name": "python3"
  },
  "language_info": {
   "codemirror_mode": {
    "name": "ipython",
    "version": 3
   },
   "file_extension": ".py",
   "mimetype": "text/x-python",
   "name": "python",
   "nbconvert_exporter": "python",
   "pygments_lexer": "ipython3",
   "version": "3.8.2"
  }
 },
 "nbformat": 4,
 "nbformat_minor": 4
}
