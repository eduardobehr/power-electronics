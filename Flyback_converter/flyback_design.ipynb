{
 "cells": [
  {
   "cell_type": "markdown",
   "metadata": {},
   "source": [
    "# Flyback Converter Design\n",
    "![Schematic](resources/schmatic.png)"
   ]
  },
  {
   "cell_type": "markdown",
   "metadata": {},
   "source": [
    "# Imports and Settings"
   ]
  },
  {
   "cell_type": "code",
   "execution_count": 25,
   "metadata": {},
   "outputs": [],
   "source": [
    "from resources.FlybackSimulation import FlybackSimulation, Snubber\n",
    "from matplotlib import pyplot as plt\n",
    "from numpy import sqrt\n",
    "\n",
    "\n",
    "# Plot settings\n",
    "PLOT_FOREGROUND_COLORS = 'white'\n",
    "PLOT_BACKGROUND_COLOR = '#272822'   # pyplot background color (#272822 matches VS Code's monokai theme)\n",
    "plt.rcParams['axes.facecolor']      = PLOT_BACKGROUND_COLOR \n",
    "plt.rcParams['xtick.color']         = PLOT_FOREGROUND_COLORS\n",
    "plt.rcParams['ytick.color']         = PLOT_FOREGROUND_COLORS\n",
    "plt.rcParams['axes.edgecolor']      = PLOT_FOREGROUND_COLORS\n",
    "plt.rcParams['axes.labelcolor']     = PLOT_FOREGROUND_COLORS\n",
    "plt.rcParams['legend.labelcolor']   = PLOT_FOREGROUND_COLORS"
   ]
  },
  {
   "cell_type": "markdown",
   "metadata": {},
   "source": [
    "# Input parameters"
   ]
  },
  {
   "cell_type": "code",
   "execution_count": 26,
   "metadata": {},
   "outputs": [],
   "source": [
    "Vi = 311        # Input voltage\n",
    "Vo = 48         # Output voltage\n",
    "Vdiode = 0.9    # Voltage drop on diode (for calculations only)\n",
    "Vdsmax = 600    # Maximum Voltage on the switch (disconsidering snubber)\n",
    "Po = 250        # Output power \n",
    "Dmax = 0.5      # Maximum duty cycle (Buck-like if 0<=D<=0.5 and Boost-like if 0.5 <= D <= 1)\n",
    "Dmin = 0.1\n",
    "fs = 160e3      # Switching frequency  160kHz\n",
    "eff = 0.9       # Estimated efficiency (η)  80%\n",
    "N_perc = 0.8    # Percentage of Nmax assigned to N, that is, N=N_perc*Nmax\n",
    "ΔImax = 5       # [A] Maximum inductance current ripple\n",
    "\n",
    "Psnubber_max_relative = 0.05 # maximum ratio Psnubber/Po"
   ]
  },
  {
   "cell_type": "markdown",
   "metadata": {},
   "source": [
    "# Derived values (do not edit)\n",
    "\n",
    "## Transformer's winding ratio\n",
    "\n",
    "The winding ratio might set to limit the induced output voltage on the switch. Assuming a MOSFET with a maximum $V_{DS}$ is used, and considering a voltage drop on the output diode:\n",
    "\n",
    "### $N_{max}=(V_{DS,max}-V_i)/(V_o+V_{diode})$\n",
    "\n",
    "In order to give an error margin for the voltage overshoot, the windings ratio might be set to 80% of the maximum theoretical value:\n",
    "\n",
    "### $N = 80\\% \\cdot N_{max} $\n",
    "\n",
    "<!-- ## Critical Inductance\n",
    "The converter operates in critical conduction mode (limit between CCM and DCM) when $I_m = \\frac{\\Delta I}{2}$ .\n",
    "The current ripple and its critical duty cycle are given by:\n",
    "\n",
    "$\\Delta I = \\frac{V_i D_{crit}}{L_m f_s}$\n",
    "\n",
    "$D_{crit} = \\frac{N V_o}{V_i + N V_o}$ (same relationship as CCM)\n",
    "\n",
    "### $\\Delta I = \\frac{V_i N V_o }{L_m f_s (V_i + N V_o)}$\n",
    "\n",
    "The average magnetizing current $I_m$ is the sum of the input current and the transformed output current, given by $I_m = I_i + \\frac{I_o}{N}$. Knowing that $P_o = \\eta P_i$, this yields\n",
    "\n",
    "### $I_m = P_o \\cdot (\\frac{1}{\\eta V_i} + \\frac{1}{V_o N}) $\n",
    "\n",
    "\n",
    "The critical inductance $L_{crit}$ is the minimal inductance value to achieve CCM, which happens when:\n",
    "\n",
    "### $I_m = \\frac{\\Delta I}{2}$\n",
    "\n",
    "### $L_{m,crit} = \\frac{1}{f_s P_o} \\cdot \\frac{\\eta (V_i V_o N)^2}{(\\eta V_i+V_o N)\\cdot(V_i+V_o N)}$ -->\n",
    "\n",
    "## Magnetizing inductance\n",
    "In order to limit the maximum current ripple (due to core losses concerns), the inductance $L_m$ should be chosen at the worst case scenario, which happens when $D=D_{max}$. Thus:\n",
    "\n",
    "### $L_{m} \\ge \\frac{D_{max} V_i}{\\Delta I_{max} f_s}$\n",
    "\n",
    "## Critical conduction mode\n",
    "The converter operates in critical conduction mode (limit between CCM and DCM) when $I_m = \\frac{\\Delta I}{2}$ .\n",
    "\n",
    "### $D_{crit} = \\frac{1}{V_i} \\sqrt{2 P_i L_m f_s} = \\sqrt{\\frac{2 P_i D_{max}}{V_i \\Delta I_{max}}}$\n",
    "\n",
    "\n",
    "<!-- ## Snubber\n",
    "\n",
    "A major source of power loss on the RCD snubber in DCM is the induced secondary voltage:\n",
    "\n",
    "$ P_{snubber} \\approx \\frac{(1-D)^2 V_o^2 N^2}{R_{snubber}}$\n",
    "\n",
    "To Achieve a better efficiency, the passive snubber's resistance should have a minimum value set to at least:\n",
    "\n",
    "$R_{snubber} \\ge \\frac{(1-D)^2 V_o^2 N^2}{ 5\\% P_o} $ -->\n",
    "\n",
    "## Clamper\n",
    "$V_{z,max}= V_{DS,max}-V_i$\n",
    "\n",
    "$V_o N \\lt V_z \\lt V_{z,max}$\n",
    "<!-- $V_z = V_{DS,max}-V_i - V_o N$ -->\n",
    "\n"
   ]
  },
  {
   "cell_type": "code",
   "execution_count": 24,
   "metadata": {},
   "outputs": [
    {
     "name": "stdout",
     "output_type": "stream",
     "text": [
      "Nmax=5.91002044989775\n",
      "Rload=9.216\n",
      "N=4.7280163599182\n",
      "Lm_min=0.000194\n",
      "Dcrit=0.423 (DCM when D<Dcrit)\n",
      "Vz_max=289\n",
      "Vo*N=226.94478527607362\n",
      "Vz=257.9723926380368\n"
     ]
    }
   ],
   "source": [
    "\n",
    "Nmax=(Vdsmax-Vi)/(Vo+Vdiode); print(f\"{Nmax=}\")  # N = n1/n2\n",
    "# D = (Dmax + Dmin)/2 # operating point\n",
    "Rload = Vo**2/Po; print(f\"{Rload=}\")\n",
    "Ts=1/fs\n",
    "Pi = Po/eff\n",
    "\n",
    "N = N_perc*Nmax; print(f\"{N=}\")\n",
    "# CCM\n",
    "# Vo_Vi_ccm = 1/Nmax*Dmax/(1-Dmax); print(f\"{Vo_Vi_ccm=}\")\n",
    "# Lcrit = ((D**2)*(Vi**2))/(2*Pi*fs); print(f\"{Lcrit=}\")\n",
    "# Lcrit = 1/(fs*Po)*(eff*(Vi*Vo*N)**2)/((eff*Vi+Vo*N)*(Vi+Vo*N)); print(f\"{Lcrit=:.3}\")\n",
    "Lm_min = (Dmax*Vi)/(ΔImax*fs); print(f\"{Lm_min=:.3}\")\n",
    "\n",
    "Dcrit = sqrt(2*Pi*Dmax/(Vi*ΔImax)); print(f\"{Dcrit=:.3} (DCM when D<Dcrit)\")\n",
    "\n",
    "Vz_max = Vdsmax - Vi; print(f\"{Vz_max=}\")\n",
    "print(f\"{Vo*N=}\")\n",
    "Vz = (Vo*N + Vz_max)/2; print(f\"{Vz=}\")\n",
    "\n"
   ]
  },
  {
   "cell_type": "markdown",
   "metadata": {},
   "source": [
    "# Chosen values"
   ]
  },
  {
   "cell_type": "code",
   "execution_count": 4,
   "metadata": {},
   "outputs": [
    {
     "name": "stdout",
     "output_type": "stream",
     "text": [
      "D = 26.13%\n"
     ]
    }
   ],
   "source": [
    "# Choose an N=(n1/n2) <= Nmax\n",
    "\n",
    "\n",
    "# dD = 0.2\n",
    "# Lcrit = ((N*Vo/(Vi+Vo*N) - dD)**2 * Vi**2)/(2*Pi); print(f\"New {Lcrit=}\")\n",
    "\n",
    "# FIXME: TEST: Lcrit para ΔD = 0\n",
    "# Lcrit = (N*Vo*Vi/(Vi+N*Vo))**2/(2*fs*Pi); print(f\"New {Lcrit=}\")\n",
    "\n",
    "# Choose an Lm <= Lcrit for DCM\n",
    "Lm = 1.0*Lm_min\n",
    "D = (Dcrit + Dmin)/2; print(f\"D = {100*D:.4}%\")\n",
    "\n",
    "simulation_time = 1000e-6"
   ]
  },
  {
   "cell_type": "markdown",
   "metadata": {},
   "source": [
    "# Final values (do not edit)\n",
    "\n",
    "The voltage overshoot on the MOSFET must be limited by the Snubber's capacitance. By making the total stored energy on the capacitor equal to that of the discharging inductor, one can write:\n",
    "\n",
    "$C_{snubber} \\ge \\frac{L_d \\cdot {\\Delta I}^2}{20\\% f_s}$, where $L_d$ is the stray inductance (usually, $\\le 5\\% L_m$)\n",
    "\n",
    "<!-- DCM happens when the average magnetizing current $I_m$ is less than the current ripple $\\Delta I = \\frac{V_i D}{L_m f_s}$\n",
    "\n",
    "The input power averaged over a switching period is $ P_i = V_i \\cdot I_i$ , where $I_{i, DCM} = \\int_0^{D\\cdot T_s} {i_i(t)\\cdot dt}\\approx D\\Delta I/2$\n",
    "\n",
    "The converter will thus operate in **DCM** when\n",
    "$ D \\le D_{DCM} = \\frac{1}{V_i} \\sqrt{2 L_m P_i} $\n",
    "\n",
    "In CCM, the demagnetizing current descent of $i_m(t)$ happens at exactly $(1-D)\\cdot T_s$ . \n",
    "Since the current ripple $\\Delta I$ is equal to that of the current's ascent,\n",
    "equating both case's common terms yields $N V_o (1-D) = V_i D$.\n",
    "\n",
    "Thus, the converter will operate in **CCM** when $D \\ge D_{CCM} = \\frac{N V_o}{V_i + N V_o}$\n",
    "\n",
    "The range between $D_{DCM}$ and $D_{CCM}$ may be given by $\\Delta D = D_{CCM} - D_{DCM}$\n",
    "\n",
    "The upper limit $D_{CCM}$ is fixed by design requirements (input and output voltages, and windings ratio according to $V_{DS, max}$).\n",
    "\n",
    "However, the magnetizing inductance $L_m$ is free to be selected and will directly impact the lower limit $D_{DCM}$\n",
    "\n",
    "If this range $\\Delta D$ is undesired, one can simply select an $L_m$ which makes $D_{CCM} = D_{DCM}$ . In fact, this value for $L_m$ is given by $(\\frac{N V_o V_i}{Vi+V_o N})^2 \\cdot \\frac{1}{2 P_i}$\n",
    "\n",
    "<img src=\"resources/Flyback_D_conduction_mode.png\"> -->"
   ]
  },
  {
   "cell_type": "code",
   "execution_count": 5,
   "metadata": {},
   "outputs": [
    {
     "name": "stdout",
     "output_type": "stream",
     "text": [
      "Conduction mode: Discontinuous\n",
      "ΔI=2.6132630389207243\n",
      "Ii=0.8931761343336906\n",
      "Minimum resistance for the snubber: 2248 Ohms (Assuming a maximum power loss of 5.0 % of 250W (Po))\n",
      "Csnubber=6.637074043728858e-07\n"
     ]
    }
   ],
   "source": [
    "# Dccm = N*Vo/(Vi+N*Vo)\n",
    "# Ddcm = Vo/Vi * sqrt(2*Lm*fs/Rload)\n",
    "# Ddcm = 1/Vi * sqrt(2*Lm*fs*Pi)\n",
    "\n",
    "# if Lm < Lcrit:\n",
    "#     # DCM\n",
    "#     D = Ddcm\n",
    "# else:\n",
    "#     # CCM\n",
    "#     D = Dccm\n",
    "\n",
    "# print(f\"CCM when D >= {Dccm:.3}\")\n",
    "# print(f\"in dcm would be {(1/Vi) * sqrt(2*Lm*fs*Pi)}\")\n",
    "# print(f\"DCM when D <= {Ddcm:.3}\")\n",
    "# print(f\"{D=}\")\n",
    "\n",
    "if D < Dcrit:\n",
    "    conduction_mode = \"Discontinuous\"\n",
    "else:\n",
    "    conduction_mode = \"Continuous\"\n",
    "\n",
    "print(f\"Conduction mode: {conduction_mode}\")\n",
    "\n",
    "ΔI = Vi*D/(Lm*fs); print(f\"{ΔI=}\")\n",
    "\n",
    "Ii = Pi/Vi; print(f\"{Ii=}\")\n",
    "\n",
    "# Snubber\n",
    "Rsnubber_min = ((1-D)*Vo*N)**2/(Po*Psnubber_max_relative); print(f\"Minimum resistance for the snubber: {int(Rsnubber_min)} Ohms (Assuming a maximum power loss of {100*Psnubber_max_relative:.2} % of {Po}W (Po))\")\n",
    "Csnubber_min = 0.03*Lm * ΔI**2 / (0.1*Vdsmax)\n",
    "Csnubber = Csnubber_min; print(f\"{Csnubber=}\")\n",
    "\n",
    "# Output\n",
    "Co = 100e-6\n"
   ]
  },
  {
   "cell_type": "code",
   "execution_count": 12,
   "metadata": {},
   "outputs": [
    {
     "name": "stdout",
     "output_type": "stream",
     "text": [
      "Calling Ngspice for generated netlist...\n",
      "\n",
      "ngspice compiled from ngspice revision 31\n",
      "Written originally by Berkeley University\n",
      "Currently maintained by the NGSpice Project\n",
      "\n",
      "Copyright (C) 1985-1996,  The Regents of the University of California\n",
      "Copyright (C) 1999-2011,  The NGSpice Project\n",
      "Available waveforms: ['t', 'Vds', 'Vout', 'Ip', 'Is', 'gate', 'Im']\n"
     ]
    }
   ],
   "source": [
    "simulation = FlybackSimulation()\n",
    "snubber = Snubber(R=Rsnubber_min, C=Csnubber)\n",
    "\n",
    "\n",
    "simulation.generate_flyback_netlist(_Vin=Vi, _Vout=Vo, _N=N, \n",
    "_D=D, _Lm=Lm, _Rl=Rload, _fs=fs, _Co=Co, _snubber=snubber,\n",
    "_transformer_coupling=1, \n",
    "_endtime=simulation_time, _steps_per_switch_period=500)\n",
    "\n",
    "simulation.begin()\n",
    "simulation.read_outputs()"
   ]
  },
  {
   "cell_type": "code",
   "execution_count": 13,
   "metadata": {},
   "outputs": [
    {
     "data": {
      "image/png": "[encoded data removed]",
      "text/plain": [
       "<Figure size 900x600 with 1 Axes>"
      ]
     },
     "metadata": {
      "needs_background": "dark"
     },
     "output_type": "display_data"
    }
   ],
   "source": [
    "plt.figure(dpi=150)\n",
    "simulation.plot(); plt.ylim(-5, Vdsmax*1.2)\n",
    "plt.xlim(simulation_time-2/fs, simulation_time); plt.xlabel(\"time (s)\"); plt.ylabel(\"Vds (V)\");\n"
   ]
  },
  {
   "cell_type": "code",
   "execution_count": 14,
   "metadata": {},
   "outputs": [
    {
     "data": {
      "image/png": "[encoded data removed]",
      "text/plain": [
       "<Figure size 900x600 with 1 Axes>"
      ]
     },
     "metadata": {
      "needs_background": "dark"
     },
     "output_type": "display_data"
    }
   ],
   "source": [
    "plt.figure(dpi=150)\n",
    "simulation.plot(y=\"Im\") # \n",
    "# plt.plot(simulation.df[\"t\"], 10*simulation.df[\"Ip\"])\n",
    "simulation.plot(y=\"Is\")\n",
    "simulation.plot('t','gate','--')\n",
    "plt.xlim(simulation_time-2/fs, simulation_time); \n",
    "plt.ylim(0, 20);\n",
    "# plt.xlim(simulation_time-10/fs, simulation_time);\n",
    "plt.legend([\"Im\", \"Is\"]); plt.xlabel(\"time (s)\");"
   ]
  },
  {
   "cell_type": "code",
   "execution_count": 15,
   "metadata": {},
   "outputs": [
    {
     "data": {
      "image/png": "[encoded data removed]",
      "text/plain": [
       "<Figure size 900x600 with 1 Axes>"
      ]
     },
     "metadata": {
      "needs_background": "dark"
     },
     "output_type": "display_data"
    }
   ],
   "source": [
    "plt.figure(dpi=150);\n",
    "simulation.plot(y=\"Vout\");\n",
    "plt.grid(True)\n",
    "# plt.xlim(simulation_time-2/fs, simulation_time); #plt.ylim(40, 50); plt.xlabel(\"time (s)\");\n",
    "\n"
   ]
  },
  {
   "cell_type": "markdown",
   "metadata": {},
   "source": [
    "# References\n",
    "https://www.monolithicpower.com/en/how-to-design-a-flyback-converter-in-seven-steps"
   ]
  },
  {
   "cell_type": "code",
   "execution_count": null,
   "metadata": {},
   "outputs": [],
   "source": []
  }
 ],
 "metadata": {
  "interpreter": {
   "hash": "e7370f93d1d0cde622a1f8e1c04877d8463912d04d973331ad4851f04de6915a"
  },
  "kernelspec": {
   "display_name": "Python 3.8.10 64-bit",
   "language": "python",
   "name": "python3"
  },
  "language_info": {
   "codemirror_mode": {
    "name": "ipython",
    "version": 3
   },
   "file_extension": ".py",
   "mimetype": "text/x-python",
   "name": "python",
   "nbconvert_exporter": "python",
   "pygments_lexer": "ipython3",
   "version": "3.8.10"
  },
  "orig_nbformat": 4
 },
 "nbformat": 4,
 "nbformat_minor": 2
}
